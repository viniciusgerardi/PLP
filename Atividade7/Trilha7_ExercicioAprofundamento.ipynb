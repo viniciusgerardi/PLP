{
 "cells": [
  {
   "attachments": {},
   "cell_type": "markdown",
   "metadata": {
    "id": "vPeR8tWzuLJG"
   },
   "source": [
    "## Exercício de Aprofundamento - Trilha 7\n"
   ]
  },
  {
   "cell_type": "markdown",
   "metadata": {
    "id": "VbBk54CnuLJJ"
   },
   "source": [
    "Faça as manipulações e explorações visuais de acordo com as perguntas que precisam ser respondidas"
   ]
  },
  {
   "cell_type": "markdown",
   "metadata": {
    "id": "0dhCTWoGuLJK"
   },
   "source": [
    "## Análise de dados da NFL "
   ]
  },
  {
   "cell_type": "markdown",
   "metadata": {
    "id": "YWzNS16huLJK"
   },
   "source": [
    "Pacote do R: https://cran.r-project.org/web/packages/nflfastR/index.html\n",
    "\n",
    "Este pacote permite que dados da NFL sejam analisados, jogada a jogada, habilitando diversos tipos de tomada de decisão a partir de manipulação dos dados e geração de gráficos.\n",
    "\n",
    "Nesta atividade de aprofundamento, vamos explorar itens estudados tanto na trilha 6 com o pacote **Tidyverse** quanto na trilha 7 com o pacote **ggplot2**.\n",
    "\n",
    "Algumas partes desta atividade já estão prontas, como por exemplo, o carregamento do conjunto de dados geral, a impressão dos escudos dos times e a segmentação de sub-conjuntos de dados para permitir uma manipulação mais simples na atividade.\n",
    "\n",
    "Começamos então, com a instalação do pacote *nflfastR* e os carregamentos dos pacotes necessários."
   ]
  },
  {
   "cell_type": "code",
   "execution_count": 2,
   "metadata": {
    "id": "VfxgAKQkuLJM",
    "vscode": {
     "languageId": "r"
    }
   },
   "outputs": [],
   "source": [
    "#install.packages(\"nflfastR\")\n",
    "#install.packages('ggimage')\n",
    "library('nflfastR')\n",
    "\n",
    "library(tidyverse)\n",
    "library(ggplot2)\n",
    "\n",
    "#library(imager)\n",
    "#library(ggimage)"
   ]
  },
  {
   "cell_type": "markdown",
   "metadata": {
    "id": "2PPDiCdeuLJN"
   },
   "source": [
    "Como este pacote permite baixar dados de todas as temporadas, jogada a jogada, desde 1999, faremos um recorte apenas de 2014. A escolha deste ano foi aleatória, mesmo que possa parecer que foi escolhido de forma proposital por ser ultimo ano no qual *Seattle Seahawks* ganhou o *Super Bowl* (que é o jogo final da temporada e define o vencedor do campeonato). Fique a vontade para escolher qualquer outro ano, caso deseje estudar. \n",
    "\n",
    ">Contudo, para este exercício de aprofundamento, **mantenha o ano de 2014**."
   ]
  },
  {
   "cell_type": "code",
   "execution_count": 3,
   "metadata": {
    "id": "GjiQCHr0uLJO",
    "vscode": {
     "languageId": "r"
    }
   },
   "outputs": [],
   "source": [
    "temporada <- load_pbp(2014) #Carregamento dos dados, jogada a jogada, de 2014"
   ]
  },
  {
   "cell_type": "markdown",
   "metadata": {
    "id": "PoreN9MauLJO"
   },
   "source": [
    "Repare que para a seleção do subconjunto de dados, foi informado o ano da temporada desejado.\n",
    "\n",
    "Poderiam ser um intervalo de outros anos, para isso, seria necessário definir o valor como **anoInicio:anoFim**, por exemplo: 2014:2018 e neste caso os dados seriam de 2014 até 2018.\n",
    "\n",
    "> temporada <- load_pbp(2014:2018)\n",
    "\n",
    "Repare que este conjunto de dados de pbp (*play-by-play* -- jogada a jogada) possui muitas variáveis. Ao chamar a função *names* colocando o nome do conjunto de dados, são retornadas todas as variáveis. Execute o bloco abaixo e conheça quais são estas variáveis."
   ]
  },
  {
   "cell_type": "markdown",
   "metadata": {
    "id": "Nu0md545uLJQ"
   },
   "source": [
    "Para conhecer os times que jogam na NFL, é possível ter um retorno de dados básicos dos cada um deles. Este retorno básico pode ser transformado em um data frame, para posteriormente, ser utilizado como filtro da estrutura."
   ]
  },
  {
   "cell_type": "code",
   "execution_count": null,
   "metadata": {
    "id": "W9pUImrPuLJQ",
    "vscode": {
     "languageId": "r"
    }
   },
   "outputs": [],
   "source": [
    "times <- teams_colors_logos %>% unique()"
   ]
  },
  {
   "cell_type": "code",
   "execution_count": null,
   "metadata": {
    "id": "wEnr0XV6uLJQ",
    "vscode": {
     "languageId": "r"
    }
   },
   "outputs": [],
   "source": [
    "names(times)"
   ]
  },
  {
   "cell_type": "markdown",
   "metadata": {
    "id": "lvrILFzkuLJR"
   },
   "source": [
    "Aproveitando que estamos observando os times, é possível mostrar todos os seus escudos e nomes.\n",
    "Para isso, execute o bloco de codigo abaixo, e veja como é a saída:"
   ]
  },
  {
   "cell_type": "code",
   "execution_count": null,
   "metadata": {
    "id": "Csezba9BuLJR",
    "vscode": {
     "languageId": "r"
    }
   },
   "outputs": [],
   "source": [
    "for (i in 1:dim(times)[1]){\n",
    "    par(mfrow=c(1,2))\n",
    "    load.image(as.character(times[i,'team_wordmark'])) %>% plot ;   \n",
    "    load.image(as.character(times[i,'team_logo_wikipedia'])) %>% plot ;   \n",
    "    print(paste(times[i,'team_name'],times[i,'team_abbr'],sep=' >> '));\n",
    "    par(mfrow=c(1,1))   \n",
    "}"
   ]
  },
  {
   "cell_type": "markdown",
   "metadata": {
    "id": "FfXNduCzuLJR"
   },
   "source": [
    "Vejam que é possível ter análises bem complexas e elaboradas, como por exemplo este bloco de código abaixo que foi adaptado do *Exemplo 5* de [Get Start with nflfastR](https://www.nflfastr.com/articles/nflfastR.html).\n",
    "\n",
    "> Não é objetivo desta disciplina de introdução exigir estes elementos. Coloquei aqui apenas para caráter informativo e mostrar que é possível realizar análises tão complexas quanto desejarmos."
   ]
  },
  {
   "cell_type": "code",
   "execution_count": null,
   "metadata": {
    "id": "oZoQbplQuLJS",
    "vscode": {
     "languageId": "r"
    }
   },
   "outputs": [],
   "source": [
    "offense <- temporada %>%\n",
    "  dplyr::group_by(posteam) %>%\n",
    "  dplyr::summarise(off_epa = mean(epa, na.rm = TRUE))\n",
    "\n",
    "defense <- temporada %>%\n",
    "  dplyr::group_by(defteam) %>%\n",
    "  dplyr::summarise(def_epa = mean(epa, na.rm = TRUE))\n",
    "\n",
    "logos <- teams_colors_logos %>% dplyr::select(team_abbr, team_logo_espn)\n",
    "\n",
    "offense %>%\n",
    "  dplyr::inner_join(defense, by = c(\"posteam\" = \"defteam\")) %>%\n",
    "  dplyr::inner_join(logos, by = c(\"posteam\" = \"team_abbr\")) %>%\n",
    "  ggplot2::ggplot(aes(x = off_epa, y = def_epa)) +\n",
    "  ggplot2::geom_abline(slope = -1.5, intercept = c(.4, .3, .2, .1, 0, -.1, -.2, -.3), alpha = .2) +\n",
    "  ggplot2::geom_hline(aes(yintercept = mean(off_epa)), color = \"red\", linetype = \"dashed\") +\n",
    "  ggplot2::geom_vline(aes(xintercept = mean(def_epa)), color = \"red\", linetype = \"dashed\") +\n",
    "  ggimage::geom_image(aes(image = team_logo_espn), size = 0.10, asp = 16 / 9) +\n",
    "  ggplot2::labs(\n",
    "    x = \"Ataque EPA/jogada\",\n",
    "    y = \"Defesa EPA/jogada\",\n",
    "    caption = \"Dados: @nflfastR\",\n",
    "    title = \"2014 NFL Ataque e Defesa EPA por jogada\"\n",
    "  ) +\n",
    "  ggplot2::theme_bw() +\n",
    "  ggplot2::theme(\n",
    "    aspect.ratio = 9 / 16,\n",
    "    plot.title = ggplot2::element_text(size = 12, hjust = 0.5, face = \"bold\")\n",
    "  ) +\n",
    "  ggplot2::scale_y_reverse()"
   ]
  },
  {
   "cell_type": "markdown",
   "metadata": {
    "id": "oBuXbSwmuLJS"
   },
   "source": [
    "### Manipulação de dados  "
   ]
  },
  {
   "cell_type": "markdown",
   "metadata": {
    "id": "u2j3QACluLJT"
   },
   "source": [
    "#### Criação dos *datasets* segmentados por variáveis  "
   ]
  },
  {
   "cell_type": "markdown",
   "metadata": {
    "id": "FwXEfQXIuLJT"
   },
   "source": [
    "**Pense no seguinte problema**. Sabendo que o time joga tanto em casa (*home_team*) quanto fora de casa (*away_team*), em qual semana o time escolhido ficou de folga. Ou seja, não há entrada de dados na variável *week*.\n",
    "\n",
    "Para esta atividade de aprofundamento mantenha o time 'SEA' escolhido, mesmo que você explore outras oportunidades posteriormente."
   ]
  },
  {
   "cell_type": "code",
   "execution_count": 6,
   "metadata": {
    "colab": {
     "base_uri": "https://localhost:8080/",
     "height": 495
    },
    "id": "RNDcsZOXuLJT",
    "outputId": "73fca27f-61c4-4959-c617-374d92b9870b",
    "vscode": {
     "languageId": "r"
    }
   },
   "outputs": [
    {
     "data": {
      "text/plain": [
       "     \n",
       "        1   2   3   5   6   7   8   9  10  11  12  13  14  15  16  17  19  20\n",
       "  ARI   0   0   0   0   0   0   0   0   0   0 154   0   0   0   0   0   0   0\n",
       "  CAR   0   0   0   0   0   0   0   0   0   0   0   0   0   0   0   0 167   0\n",
       "  DAL   0   0   0   0 173   0   0   0   0   0   0   0   0   0   0   0   0   0\n",
       "  DEN   0   0 203   0   0   0   0   0   0   0   0   0   0   0   0   0   0   0\n",
       "  GB  172   0   0   0   0   0   0   0   0   0   0   0   0   0   0   0   0 192\n",
       "  LA    0   0   0   0   0   0   0   0   0   0   0   0   0   0   0 163   0   0\n",
       "  LV    0   0   0   0   0   0   0 196   0   0   0   0   0   0   0   0   0   0\n",
       "  NE    0   0   0   0   0   0   0   0   0   0   0   0   0   0   0   0   0   0\n",
       "  NYG   0   0   0   0   0   0   0   0 172   0   0   0   0   0   0   0   0   0\n",
       "  SEA   0 167   0 177   0 168 157   0   0 167   0 164 182   0 202   0   0   0\n",
       "  SF    0   0   0   0   0   0   0   0   0   0   0   0   0 164   0   0   0   0\n",
       "     \n",
       "       21\n",
       "  ARI   0\n",
       "  CAR   0\n",
       "  DAL   0\n",
       "  DEN   0\n",
       "  GB    0\n",
       "  LA    0\n",
       "  LV    0\n",
       "  NE  192\n",
       "  NYG   0\n",
       "  SEA   0\n",
       "  SF    0"
      ]
     },
     "metadata": {},
     "output_type": "display_data"
    }
   ],
   "source": [
    "timeEscolhido <- 'SEA'\n",
    "\n",
    "jogosTimeEscolhido <- temporada %>% filter(home_team == timeEscolhido | away_team == timeEscolhido)\n",
    "\n",
    "table(jogosTimeEscolhido$away_team, jogosTimeEscolhido$week)"
   ]
  },
  {
   "cell_type": "markdown",
   "metadata": {
    "id": "kwWPX3sKuLJU"
   },
   "source": [
    "Criação dos datasets específicos, segmentando o dataset original, para facilitar a manipulação dos dados e responder às perguntas de negócio.\n",
    "\n",
    "Utilizando o pacote **Tidyverse**, crie novos conjuntos de dados a partir da função *select*. Garanta que todos datasets estejam fazendo um filtro apenas da semana 1.\n",
    "> Dica: para o filtro da semana 1, utilize a condição **week==1** na função *filter*\n",
    "\n",
    "**jogo** com as variáveis *play_id*, *home_team*, *away_team*, *away_score*, *home_score*, *total*\n",
    "\n",
    "**acoesJogadas** com as variáveis *play_id*, *rush_attempt*, pass_attempt*, *field_goal_attempt*, *down*, *time*, *qtr*, *ydstogo*, *yards_gained* \n",
    "\n",
    "**pontuacaoJogadas** com as variáveis *play_id*, *posteam*, *defteam*, *posteam_score*, *defteam_score*, *rush*, *pass*, *name*, *passer*, *rusher*, *receiver*, *interception*, *play_type*, *pass_length*, *air_yards*, *kick_distance*, *drive*, *touchdown*, *td_team*\n",
    "\n",
    "**descricaoJogadas** com as variáveis *play_id*,*desc*, *passer_player_name*, *passing_yards*, *receiver_player_name*, *punt_returner_player_name*,*name*\n",
    "\n",
    "\n",
    "> Repare que **TODOS** conjuntos de dados criados possuem a variável *play_id*, porque ela fará o relacionamento entre os conjuntos de dados, caso você queria/precise combinar conjuntos de dados para chegar à uma solução "
   ]
  },
  {
   "cell_type": "code",
   "execution_count": 7,
   "metadata": {
    "id": "bB7zPZDuuLJU",
    "vscode": {
     "languageId": "r"
    }
   },
   "outputs": [],
   "source": [
    "jogo <- jogosTimeEscolhido %>%\n",
    "    filter(week==1) %>%\n",
    "    select(play_id,\n",
    "           home_team, away_team, away_score, home_score, total\n",
    "          )"
   ]
  },
  {
   "cell_type": "code",
   "execution_count": 8,
   "metadata": {
    "id": "VXEkmD9kuLJU",
    "vscode": {
     "languageId": "r"
    }
   },
   "outputs": [],
   "source": [
    "acoesJogadas <- jogosTimeEscolhido %>%\n",
    "    filter(week==1) %>%\n",
    "    select(play_id,\n",
    "           rush_attempt, pass_attempt, field_goal_attempt, down, time, qtr, ydstogo, yards_gained\n",
    "          )"
   ]
  },
  {
   "cell_type": "code",
   "execution_count": 9,
   "metadata": {
    "id": "g-GwuTDWuLJU",
    "vscode": {
     "languageId": "r"
    }
   },
   "outputs": [],
   "source": [
    "pontuacaoJogadas <- jogosTimeEscolhido %>%\n",
    "    filter(week==1) %>%\n",
    "    select(play_id,\n",
    "           posteam, defteam, posteam_score, defteam_score, rush, pass, passer, rusher, receiver, interception, play_type, pass_length, air_yards, kick_distance, drive, touchdown, td_team, name\n",
    "          )"
   ]
  },
  {
   "cell_type": "code",
   "execution_count": 10,
   "metadata": {
    "id": "onoPKz_FuLJV",
    "vscode": {
     "languageId": "r"
    }
   },
   "outputs": [],
   "source": [
    "descricaoJogadas <- jogosTimeEscolhido %>%\n",
    "    filter(week==1) %>%\n",
    "    select(play_id,\n",
    "           desc, passer_player_name, passing_yards, receiver_player_name, punt_returner_player_name        \n",
    "          )"
   ]
  },
  {
   "cell_type": "code",
   "execution_count": null,
   "metadata": {
    "colab": {
     "base_uri": "https://localhost:8080/",
     "height": 1000
    },
    "id": "fow-jVDluLJV",
    "outputId": "9d7eda66-85ee-496a-bc73-8bc004cdbd86",
    "vscode": {
     "languageId": "r"
    }
   },
   "outputs": [],
   "source": [
    "head(jogo)\n",
    "head(acoesJogadas)\n",
    "head(pontuacaoJogadas)\n",
    "head(descricaoJogadas)"
   ]
  },
  {
   "cell_type": "markdown",
   "metadata": {
    "id": "XDjZpUZnuLJV"
   },
   "source": [
    "O uso da função *inner_join* no pacote **Tidyverse** é muito útil para combinar conjunto de dados. Veja, nos exemplos abaixo, como fica a combinação destes *datasets* que foram criados anteriormente.\n",
    "\n",
    "Pense nos seguintes desafios:\n",
    "\n",
    "**1)** Combinar o resultado de **pontuacaoJogadas** que tem a informação de quando um time fez *touchdown* (significa que marcou 6 pontos no jogo) e **descricaoJogadas** onde há uma descrição da jogada. Estes conjuntos de dados estão segmentados, cada um deles possui uma parte da informação. Ao combinar estes dois conjuntos de dados é possível ter todas as variáveis juntas como se fossem um único *dataset*. Eles se combinam a partir da variável *play_id*, que é comum entre eles. A partir desta combinação, a manipulação é similar ao que já foi estudado anteriormente."
   ]
  },
  {
   "cell_type": "code",
   "execution_count": null,
   "metadata": {
    "colab": {
     "base_uri": "https://localhost:8080/",
     "height": 286
    },
    "id": "UR-MgLfiuLJV",
    "outputId": "5782adc5-92de-45cd-de3c-1f9f58711042",
    "vscode": {
     "languageId": "r"
    }
   },
   "outputs": [],
   "source": [
    "pontuacaoJogadas %>% #primeiro dataset \n",
    "inner_join(descricaoJogadas, by='play_id') %>% #segundo dataset combinando com o primeiro\n",
    "select(play_id, posteam, touchdown, td_team, desc) %>% #seleção de variáveis\n",
    "filter(touchdown == 1) #filtro de dados"
   ]
  },
  {
   "cell_type": "markdown",
   "metadata": {
    "id": "UzB8Yy4YuLJV"
   },
   "source": [
    "**2)** Mostrar qual foi o jogador do time da casa e quando ele recebeu o primeiro passe que permitiu correr 5 ou mais jardas.\n",
    "\n",
    "Para isso, é necessário cobinar 3 conjuntos de dados. No dataset **jogo** é possível retornar qual é o time da casa. Já em **acoesJogadas** é possível saber quantas jardar foram conquistadas (com a variável *yards_gained*). E por fim, em **pontuacaoJogadas** há o nome de quem correu com a bola (variável *rusher*). Vamos ver como fica essa combinação?"
   ]
  },
  {
   "cell_type": "code",
   "execution_count": null,
   "metadata": {
    "id": "d7k-x8oDuLJW",
    "outputId": "32c4a3d3-4602-48f1-d3f3-f55f24c24d62",
    "vscode": {
     "languageId": "r"
    }
   },
   "outputs": [],
   "source": [
    "jogo %>% #primeiro dataset \n",
    "inner_join(acoesJogadas, by='play_id') %>% #segundo dataset combinando com o primeiro\n",
    "inner_join(pontuacaoJogadas, by='play_id') %>% #terceiro dataset combinando com o primeiro e o segundo\n",
    "select(play_id, home_team,posteam, rusher, yards_gained, time, qtr ) %>% #seleção de variáveis\n",
    "filter( posteam == home_team | yards_gained >=5 ) %>% #filtro de dados\n",
    "head(1) #retorno apenas de 1 linha"
   ]
  },
  {
   "cell_type": "markdown",
   "metadata": {
    "id": "-BRTW6jTuLJW"
   },
   "source": [
    "#### Desafios de manipulação de dados "
   ]
  },
  {
   "cell_type": "markdown",
   "metadata": {
    "id": "tnyyASmIuLJW"
   },
   "source": [
    "Com base no dataset específico **pontuacaoJogadas**, apresente os dados somente quando ouve *rush* ou *pass* na jogada. Garanta que exista também o nome ou abreviatura do time que está atacando (variável *posteam*), além dos nomes dos jogadores que estão fazendo passe,  correndo ou recebendo a bola (variáveis *passer*, *rusher* e *receiver*)"
   ]
  },
  {
   "cell_type": "code",
   "execution_count": 11,
   "metadata": {
    "colab": {
     "base_uri": "https://localhost:8080/",
     "height": 286
    },
    "id": "ZgalKaoAuLJX",
    "outputId": "8f3e040e-5da5-4dd8-b192-6bc92e7fce84",
    "vscode": {
     "languageId": "r"
    }
   },
   "outputs": [
    {
     "data": {
      "text/html": [
       "<table class=\"dataframe\">\n",
       "<caption>A tibble: 6 × 7</caption>\n",
       "<thead>\n",
       "\t<tr><th scope=col>play_id</th><th scope=col>posteam</th><th scope=col>rusher</th><th scope=col>passer</th><th scope=col>receiver</th><th scope=col>rush</th><th scope=col>pass</th></tr>\n",
       "\t<tr><th scope=col>&lt;dbl&gt;</th><th scope=col>&lt;chr&gt;</th><th scope=col>&lt;chr&gt;</th><th scope=col>&lt;chr&gt;</th><th scope=col>&lt;chr&gt;</th><th scope=col>&lt;dbl&gt;</th><th scope=col>&lt;dbl&gt;</th></tr>\n",
       "</thead>\n",
       "<tbody>\n",
       "\t<tr><td> 58</td><td>GB</td><td>E.Lacy  </td><td>NA       </td><td>NA      </td><td>1</td><td>0</td></tr>\n",
       "\t<tr><td> 79</td><td>GB</td><td>E.Lacy  </td><td>NA       </td><td>NA      </td><td>1</td><td>0</td></tr>\n",
       "\t<tr><td>111</td><td>GB</td><td>E.Lacy  </td><td>NA       </td><td>NA      </td><td>1</td><td>0</td></tr>\n",
       "\t<tr><td>132</td><td>GB</td><td>J.Starks</td><td>NA       </td><td>NA      </td><td>1</td><td>0</td></tr>\n",
       "\t<tr><td>153</td><td>GB</td><td>NA      </td><td>A.Rodgers</td><td>J.Nelson</td><td>0</td><td>1</td></tr>\n",
       "\t<tr><td>177</td><td>GB</td><td>NA      </td><td>A.Rodgers</td><td>NA      </td><td>0</td><td>1</td></tr>\n",
       "</tbody>\n",
       "</table>\n"
      ],
      "text/latex": [
       "A tibble: 6 × 7\n",
       "\\begin{tabular}{lllllll}\n",
       " play\\_id & posteam & rusher & passer & receiver & rush & pass\\\\\n",
       " <dbl> & <chr> & <chr> & <chr> & <chr> & <dbl> & <dbl>\\\\\n",
       "\\hline\n",
       "\t  58 & GB & E.Lacy   & NA        & NA       & 1 & 0\\\\\n",
       "\t  79 & GB & E.Lacy   & NA        & NA       & 1 & 0\\\\\n",
       "\t 111 & GB & E.Lacy   & NA        & NA       & 1 & 0\\\\\n",
       "\t 132 & GB & J.Starks & NA        & NA       & 1 & 0\\\\\n",
       "\t 153 & GB & NA       & A.Rodgers & J.Nelson & 0 & 1\\\\\n",
       "\t 177 & GB & NA       & A.Rodgers & NA       & 0 & 1\\\\\n",
       "\\end{tabular}\n"
      ],
      "text/markdown": [
       "\n",
       "A tibble: 6 × 7\n",
       "\n",
       "| play_id &lt;dbl&gt; | posteam &lt;chr&gt; | rusher &lt;chr&gt; | passer &lt;chr&gt; | receiver &lt;chr&gt; | rush &lt;dbl&gt; | pass &lt;dbl&gt; |\n",
       "|---|---|---|---|---|---|---|\n",
       "|  58 | GB | E.Lacy   | NA        | NA       | 1 | 0 |\n",
       "|  79 | GB | E.Lacy   | NA        | NA       | 1 | 0 |\n",
       "| 111 | GB | E.Lacy   | NA        | NA       | 1 | 0 |\n",
       "| 132 | GB | J.Starks | NA        | NA       | 1 | 0 |\n",
       "| 153 | GB | NA       | A.Rodgers | J.Nelson | 0 | 1 |\n",
       "| 177 | GB | NA       | A.Rodgers | NA       | 0 | 1 |\n",
       "\n"
      ],
      "text/plain": [
       "  play_id posteam rusher   passer    receiver rush pass\n",
       "1  58     GB      E.Lacy   NA        NA       1    0   \n",
       "2  79     GB      E.Lacy   NA        NA       1    0   \n",
       "3 111     GB      E.Lacy   NA        NA       1    0   \n",
       "4 132     GB      J.Starks NA        NA       1    0   \n",
       "5 153     GB      NA       A.Rodgers J.Nelson 0    1   \n",
       "6 177     GB      NA       A.Rodgers NA       0    1   "
      ]
     },
     "metadata": {},
     "output_type": "display_data"
    }
   ],
   "source": [
    "# Seu código de resposta vai aqui\n",
    "pontuacaoJogadas %>%\n",
    "select(play_id, posteam, rusher, passer, receiver, rush, pass) %>%\n",
    "filter(rush == 1 | pass == 1) %>%\n",
    "head()"
   ]
  },
  {
   "cell_type": "markdown",
   "metadata": {
    "id": "gsggT9dWuLJX"
   },
   "source": [
    "Utilizando o subconjunto de dados **acoesJogadas** e **pontuacaoJogadas**, crie uma análise que retorne qual foi o jogador que conquistou mais jardas no terceiro quarto."
   ]
  },
  {
   "cell_type": "code",
   "execution_count": 12,
   "metadata": {
    "colab": {
     "base_uri": "https://localhost:8080/",
     "height": 129
    },
    "id": "12KRxU5auLJX",
    "outputId": "f0baee7e-0612-4dcf-be1e-e35a2e71178e",
    "vscode": {
     "languageId": "r"
    }
   },
   "outputs": [
    {
     "data": {
      "text/html": [
       "<table class=\"dataframe\">\n",
       "<caption>A tibble: 1 × 7</caption>\n",
       "<thead>\n",
       "\t<tr><th scope=col>play_id</th><th scope=col>rusher</th><th scope=col>passer</th><th scope=col>receiver</th><th scope=col>yards_gained</th><th scope=col>time</th><th scope=col>qtr</th></tr>\n",
       "\t<tr><th scope=col>&lt;dbl&gt;</th><th scope=col>&lt;chr&gt;</th><th scope=col>&lt;chr&gt;</th><th scope=col>&lt;chr&gt;</th><th scope=col>&lt;dbl&gt;</th><th scope=col>&lt;chr&gt;</th><th scope=col>&lt;dbl&gt;</th></tr>\n",
       "</thead>\n",
       "<tbody>\n",
       "\t<tr><td>2485</td><td>NA</td><td>A.Rodgers</td><td>R.Cobb</td><td>23</td><td>08:17</td><td>3</td></tr>\n",
       "</tbody>\n",
       "</table>\n"
      ],
      "text/latex": [
       "A tibble: 1 × 7\n",
       "\\begin{tabular}{lllllll}\n",
       " play\\_id & rusher & passer & receiver & yards\\_gained & time & qtr\\\\\n",
       " <dbl> & <chr> & <chr> & <chr> & <dbl> & <chr> & <dbl>\\\\\n",
       "\\hline\n",
       "\t 2485 & NA & A.Rodgers & R.Cobb & 23 & 08:17 & 3\\\\\n",
       "\\end{tabular}\n"
      ],
      "text/markdown": [
       "\n",
       "A tibble: 1 × 7\n",
       "\n",
       "| play_id &lt;dbl&gt; | rusher &lt;chr&gt; | passer &lt;chr&gt; | receiver &lt;chr&gt; | yards_gained &lt;dbl&gt; | time &lt;chr&gt; | qtr &lt;dbl&gt; |\n",
       "|---|---|---|---|---|---|---|\n",
       "| 2485 | NA | A.Rodgers | R.Cobb | 23 | 08:17 | 3 |\n",
       "\n"
      ],
      "text/plain": [
       "  play_id rusher passer    receiver yards_gained time  qtr\n",
       "1 2485    NA     A.Rodgers R.Cobb   23           08:17 3  "
      ]
     },
     "metadata": {},
     "output_type": "display_data"
    }
   ],
   "source": [
    "# Seu código de resposta vai aqui\n",
    "acoesJogadas %>%\n",
    "inner_join(pontuacaoJogadas, by='play_id') %>%\n",
    "select(play_id, rusher, passer, receiver, yards_gained, time, qtr) %>%\n",
    "filter(qtr == 3) %>%\n",
    "arrange(desc(yards_gained)) %>%\n",
    "head(1)"
   ]
  },
  {
   "cell_type": "markdown",
   "metadata": {
    "id": "wziiIzReuLJX"
   },
   "source": [
    "#### Desafio de geração de gráfico  "
   ]
  },
  {
   "cell_type": "markdown",
   "metadata": {
    "id": "M6h8Zw9CuLJY"
   },
   "source": [
    "Crie um gráfico de linhas, mostrando a pontuação de cada time em cada *quarter*. O resultado deve ter duas linhas, uma para cada time, e cada linha será composta pela pontuação de cada um dos *quarters* sendo uma cor para cada time. O eixo X terá os *quarters* e o eixo y terá a pontuação."
   ]
  },
  {
   "cell_type": "code",
   "execution_count": 13,
   "metadata": {
    "colab": {
     "base_uri": "https://localhost:8080/",
     "height": 437
    },
    "id": "l8bVGOrruLJY",
    "outputId": "2ce6b218-3eab-465d-fa41-ffc8564cd1f0",
    "vscode": {
     "languageId": "r"
    }
   },
   "outputs": [
    {
     "data": {
      "image/png": "[encoded data removed]",
      "text/plain": [
       "plot without title"
      ]
     },
     "metadata": {
      "image/png": {
       "height": 420,
       "width": 420
      }
     },
     "output_type": "display_data"
    }
   ],
   "source": [
    "# Seu código de resposta vai aqui\n",
    "\n",
    " pontuacaoTimes <- acoesJogadas %>%\n",
    "     inner_join(pontuacaoJogadas, by='play_id') %>%\n",
    "     select(posteam, posteam_score, qtr) %>%\n",
    "     group_by(posteam, qtr) %>%\n",
    "     filter(posteam_score== max(posteam_score)) %>%\n",
    "     unique() %>%\n",
    "     arrange(qtr)\n",
    "\n",
    "#head(pontuacaoTimes,10)\n",
    "\n",
    "ggplot(pontuacaoTimes, aes(x=qtr, y=posteam_score, col=posteam)) +\n",
    "  geom_line() +\n",
    "  ggtitle(\"Pontuação do jogo\", subtitle=\"Pontuação X Tempo\") +\n",
    "  xlab(\"Tempo\") +\n",
    "  ylab(\"Pontuação\")"
   ]
  },
  {
   "cell_type": "markdown",
   "metadata": {
    "id": "q6KM8r6UuLJY"
   },
   "source": [
    "Crie um gráfico de barras empilhada (colunas verticais), utilizando somente as jogadas que tiveram entre 10 e 20 jardas conquistas.\n",
    "O empilhamento das barras será feito pela quantidade de jardas conquistadas (entre 10 e 20). Mantenha as barras verticais segmentadas por quarter do jogo, e por fim, crie a faceta baseada nos times.\n"
   ]
  },
  {
   "cell_type": "code",
   "execution_count": 14,
   "metadata": {
    "id": "TU1cwJ3AuLJY",
    "vscode": {
     "languageId": "r"
    }
   },
   "outputs": [
    {
     "data": {
      "image/png": "[encoded data removed]",
      "text/plain": [
       "plot without title"
      ]
     },
     "metadata": {
      "image/png": {
       "height": 420,
       "width": 420
      }
     },
     "output_type": "display_data"
    }
   ],
   "source": [
    "# Seu código de resposta vai aqui\n",
    "\n",
    "# Select\n",
    "jardasConquistadas <- acoesJogadas %>%\n",
    "    inner_join(pontuacaoJogadas, by='play_id') %>%\n",
    "    select(play_id, posteam, yards_gained, qtr) %>%\n",
    "    filter(yards_gained >= 10 & yards_gained < 20) %>%\n",
    "    arrange(desc(yards_gained))\n",
    "#head(jardasConquistadas)\n",
    "\n",
    "graficoBarras <- ggplot(jardasConquistadas, aes(x=qtr, fill=as.character(yards_gained))) +\n",
    "    geom_bar(position = 'fill') +\n",
    "    facet_grid(. ~ qtr) +\n",
    "    xlab('Quarter') +\n",
    "    ylab('Distribuição das jardas conquistadas') +\n",
    "    facet_grid(. ~ posteam) + \n",
    "    ggtitle(\"Jardas conquistadas - entre 10 e 20\") +\n",
    "    scale_fill_brewer(palette = 'Set1')\n",
    "\n",
    "graficoBarras"
   ]
  }
 ],
 "metadata": {
  "colab": {
   "name": "Trilha7_ExercicioAprofundamento.ipynb",
   "provenance": []
  },
  "kernelspec": {
   "display_name": "R",
   "language": "R",
   "name": "ir"
  },
  "language_info": {
   "codemirror_mode": "r",
   "file_extension": ".r",
   "mimetype": "text/x-r-source",
   "name": "R",
   "pygments_lexer": "r",
   "version": "3.6.3"
  }
 },
 "nbformat": 4,
 "nbformat_minor": 1
}
