{
  "cells": [
    {
      "cell_type": "markdown",
      "metadata": {
        "id": "pqEhMdFQO3A-"
      },
      "source": [
        "<h1 align=left><font size = 8, style=\"color:rgb(200,0,0)\"><b>Ciência de Dados </b></font></h1> \n",
        "<h1 align=left><font size = 5, style=\"color:rgb(0,0,0)\"><b>Paradigmas de Linguagens de\n",
        "Programação para Ciência de Dados</b></font></h1> \n",
        "# 1 Introdução à Programação Python\n",
        "Professores: *Diego Nogare* & *Rogério de Oliveira* \n",
        "\n",
        "<br>\n",
        "<br>\n",
        "\n",
        "---\n"
      ]
    },
    {
      "cell_type": "markdown",
      "metadata": {
        "id": "42yF1G-yHu98"
      },
      "source": [
        "# Exercícios"
      ]
    },
    {
      "cell_type": "markdown",
      "metadata": {
        "id": "BDm3FTRtWXCY"
      },
      "source": [
        "Em todos os exercícios execute o código abaixo como a primeira instrução e uma única vez para gerar os valores de `letras` e `lista`.\n",
        "\n",
        "Todos exercícios possuem várias soluções possíveis, mas não se preocupe com isso. A melhor solução é primeiro, a que funciona para você!"
      ]
    },
    {
      "cell_type": "code",
      "execution_count": 2,
      "metadata": {
        "colab": {
          "base_uri": "https://localhost:8080/"
        },
        "id": "xBjopVrbVgb5",
        "outputId": "b4eecce9-1bb2-49e8-9a1f-0d8cb99354bc"
      },
      "outputs": [
        {
          "name": "stdout",
          "output_type": "stream",
          "text": [
            "True\n"
          ]
        }
      ],
      "source": [
        "import random; from random import choices; import string; random.seed(1234); import numpy as np\n",
        "letras = choices(string.ascii_lowercase,k=100)\n",
        "lista = random.sample(range(1, 10000), 1000)\n",
        "print(np.array(lista).sum() == 5244799) # precisa retornar True!"
      ]
    },
    {
      "cell_type": "markdown",
      "metadata": {},
      "source": [
        "Forçando a sequencia de itens gerada no item 1"
      ]
    },
    {
      "cell_type": "markdown",
      "metadata": {
        "id": "XEngnerfXmKX"
      },
      "source": [
        "1. Dos valores [9887, 3233, 813, 883, 1613] quais estão presentes em `lista` e, se presentes, qual o seu índice? "
      ]
    },
    {
      "cell_type": "code",
      "execution_count": 6,
      "metadata": {
        "colab": {
          "base_uri": "https://localhost:8080/",
          "height": 246
        },
        "id": "8KlbNKnHR6VZ",
        "outputId": "63b6d49d-f0e2-4c0b-f948-a501c3f2d66e"
      },
      "outputs": [
        {
          "name": "stdout",
          "output_type": "stream",
          "text": [
            "Posição  Número\n",
            "597 1613\n",
            "680 3233\n",
            "877 9887\n"
          ]
        }
      ],
      "source": [
        "# seu código\n",
        "print('Posição  Número')\n",
        "for i in range(len(lista)):\n",
        "    if lista[i]==9887:\n",
        "        print(i, '9887')\n",
        "    if lista[i]==3233:\n",
        "        print(i, '3233')\n",
        "    if lista[i]==813:\n",
        "        print(i, '813')\n",
        "    if lista[i]==883:\n",
        "        print(i, '883')\n",
        "    if lista[i]==1613:\n",
        "        print(i, '1613')"
      ]
    },
    {
      "cell_type": "markdown",
      "metadata": {
        "id": "95H7DlB_YARA"
      },
      "source": [
        "2. Quais os dois primeiros valores maiores que 2046 em `lista`?"
      ]
    },
    {
      "cell_type": "code",
      "execution_count": 7,
      "metadata": {
        "colab": {
          "base_uri": "https://localhost:8080/"
        },
        "id": "D5HtxhSKagDu",
        "outputId": "0a698ff2-babc-45a6-df02-bb65b9c80c28"
      },
      "outputs": [
        {
          "name": "stdout",
          "output_type": "stream",
          "text": [
            "2055\n",
            "2064\n"
          ]
        }
      ],
      "source": [
        "listaOrdenada=lista[:]\n",
        "listaOrdenada.sort()\n",
        "qtd=0\n",
        "for item in listaOrdenada:\n",
        "  if qtd<2:\n",
        "    if item>2046:\n",
        "      print(item)\n",
        "      qtd+=1"
      ]
    },
    {
      "cell_type": "markdown",
      "metadata": {
        "id": "_i-bSWW9YNa_"
      },
      "source": [
        "3. Quais os valores mínimo e máximo em `lista`? "
      ]
    },
    {
      "cell_type": "code",
      "execution_count": 8,
      "metadata": {
        "colab": {
          "base_uri": "https://localhost:8080/"
        },
        "id": "8-6xfJ92agcF",
        "outputId": "b74d9c1f-738f-4808-a4cc-c4894eb11158"
      },
      "outputs": [
        {
          "name": "stdout",
          "output_type": "stream",
          "text": [
            "O mínimo é 4 e o máximo é 9998\n"
          ]
        }
      ],
      "source": [
        "minimo=min(lista)\n",
        "maximo=max(lista)\n",
        "print(f'O mínimo é {minimo} e o máximo é {maximo}')"
      ]
    },
    {
      "cell_type": "markdown",
      "metadata": {
        "id": "yJOItauOYa-g"
      },
      "source": [
        "4. Quais as 4 letras que mais aparecem em `letras`?\n",
        "\n",
        "<small> ( Existe várias formas de fazer isso, mas fica aqui a sugestão: se você implementar um dicionário *letra:quantidade* poderá empregar a mesma solução na tarefa de aprofundamento! ) </small> "
      ]
    },
    {
      "cell_type": "code",
      "execution_count": 9,
      "metadata": {
        "id": "48y8A-6Cag6I"
      },
      "outputs": [
        {
          "name": "stdout",
          "output_type": "stream",
          "text": [
            "e\t8\n",
            "v\t8\n",
            "m\t7\n",
            "a\t6\n",
            "u\t6\n",
            "d\t6\n",
            "b\t6\n",
            "h\t6\n",
            "l\t5\n",
            "y\t5\n",
            "p\t4\n",
            "q\t4\n",
            "c\t3\n",
            "i\t3\n",
            "o\t3\n",
            "j\t3\n",
            "n\t3\n",
            "z\t2\n",
            "x\t2\n",
            "r\t2\n",
            "g\t2\n",
            "k\t2\n",
            "s\t2\n",
            "t\t1\n",
            "w\t1\n"
          ]
        }
      ],
      "source": [
        "dicionario={}\n",
        "\n",
        "for j in range(len(letras)):\n",
        "  if letras[j] in dicionario.keys():\n",
        "    dicionario[letras[j]]+=1\n",
        "  else:\n",
        "    dicionario[letras[j]]=1\n",
        "\n",
        "dicionarioOrdenado={k: v for k, v in sorted(dicionario.items(), key=lambda item: item[1], reverse=True)}\n",
        "for k,v in dicionarioOrdenado.items():\n",
        "    print(f'{k}\\t{v}')"
      ]
    },
    {
      "cell_type": "markdown",
      "metadata": {
        "id": "cdADnpZFZKxg"
      },
      "source": [
        "5. Qual a soma dos valores pares de `lista`?"
      ]
    },
    {
      "cell_type": "code",
      "execution_count": 10,
      "metadata": {
        "colab": {
          "base_uri": "https://localhost:8080/"
        },
        "id": "LnOxIdHWahaI",
        "outputId": "a77e12eb-a826-4455-bba3-850d542d0127"
      },
      "outputs": [
        {
          "name": "stdout",
          "output_type": "stream",
          "text": [
            "2687196\n"
          ]
        }
      ],
      "source": [
        "soma=0\n",
        "for item in lista:\n",
        "  if item % 2 ==0:\n",
        "    soma+=item\n",
        "print(soma)"
      ]
    }
  ],
  "metadata": {
    "colab": {
      "name": "Cópia de PL_Python_1_exercicio.ipynb",
      "provenance": []
    },
    "interpreter": {
      "hash": "64e550d1d00d9658cff43a79a3e9c9ac189b98c1a2d13fcc739f21ed2c169f51"
    },
    "kernelspec": {
      "display_name": "Python 3.9.7 64-bit (windows store)",
      "name": "python3"
    },
    "language_info": {
      "codemirror_mode": {
        "name": "ipython",
        "version": 3
      },
      "file_extension": ".py",
      "mimetype": "text/x-python",
      "name": "python",
      "nbconvert_exporter": "python",
      "pygments_lexer": "ipython3",
      "version": "3.9.7"
    }
  },
  "nbformat": 4,
  "nbformat_minor": 2
}
